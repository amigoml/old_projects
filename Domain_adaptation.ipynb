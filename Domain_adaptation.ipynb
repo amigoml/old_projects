{
 "cells": [
  {
   "cell_type": "raw",
   "metadata": {},
   "source": [
    "%%sh\n",
    "\n",
    "wget -q -nc https://raw.githubusercontent.com/amitgroup/amitgroup/master/amitgroup/io/mnist.py -O mnisty.py"
   ]
  },
  {
   "cell_type": "raw",
   "metadata": {},
   "source": [
    "%%sh\n",
    "\n",
    "mkdir -p mnist && {\n",
    "    cd mnist;\n",
    "    wget -q -nc http://yann.lecun.com/exdb/mnist/train-images-idx3-ubyte.gz &&\n",
    "    wget -q -nc http://yann.lecun.com/exdb/mnist/train-labels-idx1-ubyte.gz &&\n",
    "    wget -q -nc http://yann.lecun.com/exdb/mnist/t10k-images-idx3-ubyte.gz &&\n",
    "    wget -q -nc http://yann.lecun.com/exdb/mnist/t10k-labels-idx1-ubyte.gz &&\n",
    "    gunzip *.gz\n",
    "}"
   ]
  },
  {
   "cell_type": "markdown",
   "metadata": {},
   "source": [
    "_______-"
   ]
  },
  {
   "cell_type": "code",
   "execution_count": 1,
   "metadata": {
    "collapsed": true
   },
   "outputs": [],
   "source": [
    "import os\n",
    "import os.path as osp\n",
    "import time\n",
    "\n",
    "from collections import OrderedDict\n",
    "\n",
    "from tqdm import *\n",
    "import numpy as np\n",
    "\n",
    "import theano\n",
    "import theano.tensor as T\n",
    "import lasagne\n",
    "\n",
    "%matplotlib inline\n",
    "import matplotlib.pyplot as plt\n",
    "\n",
    "### http://g.sweyla.com/blog/2012/mnist-numpy/\n",
    "import mnisty as mnist"
   ]
  },
  {
   "cell_type": "code",
   "execution_count": null,
   "metadata": {
    "collapsed": true
   },
   "outputs": [],
   "source": []
  },
  {
   "cell_type": "markdown",
   "metadata": {},
   "source": [
    "#### Utils"
   ]
  },
  {
   "cell_type": "code",
   "execution_count": 2,
   "metadata": {
    "collapsed": true
   },
   "outputs": [],
   "source": [
    "def iterate_minibatches(inputs, targets, batchsize, shuffle=True):\n",
    "    assert len(inputs) == len(targets)\n",
    "    \n",
    "    if shuffle:\n",
    "        indices = np.arange(len(inputs))\n",
    "        np.random.shuffle(indices)\n",
    "    for start_idx in range(0, len(inputs) - batchsize + 1, batchsize):\n",
    "        if shuffle:\n",
    "            excerpt = indices[start_idx:start_idx + batchsize]\n",
    "        else:\n",
    "            excerpt = slice(start_idx, start_idx + batchsize)\n",
    "        yield inputs[excerpt], targets[excerpt]\n",
    "\n"
   ]
  },
  {
   "cell_type": "code",
   "execution_count": null,
   "metadata": {
    "collapsed": true
   },
   "outputs": [],
   "source": []
  },
  {
   "cell_type": "markdown",
   "metadata": {},
   "source": [
    "## Datasets"
   ]
  },
  {
   "cell_type": "code",
   "execution_count": 3,
   "metadata": {
    "collapsed": true
   },
   "outputs": [],
   "source": [
    "X, y = mnist.load_mnist(dataset='training', path='mnist/')\n",
    "X = X.reshape(-1, 1, 28, 28).astype('float32')\n",
    "\n",
    "X_test, y_test = mnist.load_mnist(dataset='testing', path='mnist/')\n",
    "X_test = X_test.reshape(-1, 1, 28, 28).astype('float32')"
   ]
  },
  {
   "cell_type": "code",
   "execution_count": 4,
   "metadata": {
    "collapsed": true
   },
   "outputs": [],
   "source": [
    "X_inv, y_inv = mnist.load_mnist(dataset='training', path='mnist/')\n",
    "X_inv = 1.-X_inv.reshape(-1, 1, 28, 28).astype('float32')\n",
    "\n",
    "X_inv_test, y_inv_test = mnist.load_mnist(dataset='testing', path='mnist/')\n",
    "X_inv_test = 1.-X_inv_test.reshape(-1, 1, 28, 28).astype('float32')"
   ]
  },
  {
   "cell_type": "code",
   "execution_count": 5,
   "metadata": {
    "collapsed": true
   },
   "outputs": [],
   "source": [
    "def one_hot(y, n_classes=10):\n",
    "    onehot = np.zeros(shape=(y.shape[0], n_classes), dtype='float32')\n",
    "\n",
    "    onehot[np.arange(y.shape[0]), y] = 1\n",
    "    return onehot\n",
    "\n",
    "y = one_hot(y).astype('int32')\n",
    "y_test = one_hot(y_test).astype('int32')\n",
    "\n",
    "y_inv = one_hot(y_inv).astype('int32')\n",
    "y_inv_test = one_hot(y_inv_test).astype('int32')"
   ]
  },
  {
   "cell_type": "code",
   "execution_count": null,
   "metadata": {
    "collapsed": false
   },
   "outputs": [],
   "source": []
  },
  {
   "cell_type": "code",
   "execution_count": 6,
   "metadata": {
    "collapsed": true
   },
   "outputs": [],
   "source": [
    "X_train = X[:50000]\n",
    "X_val = X[50000:]\n",
    "\n",
    "y_train = y[:50000]\n",
    "y_val = y[50000:]\n"
   ]
  },
  {
   "cell_type": "code",
   "execution_count": 7,
   "metadata": {
    "collapsed": false
   },
   "outputs": [],
   "source": [
    "X_inv_train = X_inv[:50000]\n",
    "X_inv_val = X_inv[50000:]\n",
    "\n",
    "y_inv_train = y_inv[:50000]\n",
    "y_inv_val = y_inv[50000:]\n"
   ]
  },
  {
   "cell_type": "code",
   "execution_count": 8,
   "metadata": {
    "collapsed": false
   },
   "outputs": [],
   "source": [
    "# dataset domain - \n",
    "\n",
    "X_dom_train = np.concatenate((X_train, X_inv_train))\n",
    "X_dom_val = np.concatenate((X_val, X_inv_val))\n",
    "\n",
    "y_dom_train = np.concatenate(([1]*X_train.shape[0],[0]*X_inv_train.shape[0] )).astype('int32')\n",
    "y_dom_val = np.concatenate(([1]*X_val.shape[0],[0]*X_inv_val.shape[0] )).astype('int32')"
   ]
  },
  {
   "cell_type": "code",
   "execution_count": null,
   "metadata": {
    "collapsed": true
   },
   "outputs": [],
   "source": []
  },
  {
   "cell_type": "code",
   "execution_count": null,
   "metadata": {
    "collapsed": false
   },
   "outputs": [],
   "source": []
  },
  {
   "cell_type": "code",
   "execution_count": null,
   "metadata": {
    "collapsed": false
   },
   "outputs": [],
   "source": []
  },
  {
   "cell_type": "code",
   "execution_count": 9,
   "metadata": {
    "collapsed": false
   },
   "outputs": [
    {
     "data": {
      "text/plain": [
       "(1.0, 1.0)"
      ]
     },
     "execution_count": 9,
     "metadata": {},
     "output_type": "execute_result"
    }
   ],
   "source": [
    "X[0][0].max(), X_inv[0][0].max()"
   ]
  },
  {
   "cell_type": "raw",
   "metadata": {
    "collapsed": false
   },
   "source": [
    "plt.imshow(X[0][0])"
   ]
  },
  {
   "cell_type": "raw",
   "metadata": {
    "collapsed": false
   },
   "source": [
    "plt.imshow(X_inv[0][0])"
   ]
  },
  {
   "cell_type": "code",
   "execution_count": null,
   "metadata": {
    "collapsed": true
   },
   "outputs": [],
   "source": []
  },
  {
   "cell_type": "markdown",
   "metadata": {},
   "source": [
    "_____"
   ]
  },
  {
   "cell_type": "markdown",
   "metadata": {
    "collapsed": false
   },
   "source": [
    "### Usual vgg like arch for classification"
   ]
  },
  {
   "cell_type": "code",
   "execution_count": 9,
   "metadata": {
    "collapsed": false
   },
   "outputs": [],
   "source": [
    "img_shape = (None, 1, 28, 28)\n",
    "\n",
    "input_img = T.tensor4('x_image')\n",
    "target_y = T.matrix(\"target\", dtype='int32')"
   ]
  },
  {
   "cell_type": "code",
   "execution_count": 13,
   "metadata": {
    "collapsed": false
   },
   "outputs": [
    {
     "name": "stdout",
     "output_type": "stream",
     "text": [
      "('pool_1', (None, 8, 13, 13))\n",
      "('pool_2', (None, 16, 5, 5))\n",
      "('pool_3', (None, 32, 1, 1))\n"
     ]
    }
   ],
   "source": [
    "nnet = OrderedDict()\n",
    "nnet['input'] = lasagne.layers.InputLayer(img_shape, input_img)\n",
    "nnet['conv_11'] = lasagne.layers.Conv2DLayer(nnet[nnet.keys()[-1]], 8, 2)\n",
    "nnet['conv_12'] = lasagne.layers.Conv2DLayer(nnet[nnet.keys()[-1]], 8, 2)\n",
    "nnet['pool_1'] = lasagne.layers.Pool2DLayer(nnet[nnet.keys()[-1]], 2)\n",
    "print (nnet.keys()[-1], nnet[nnet.keys()[-1]].output_shape)\n",
    "\n",
    "nnet['conv_21'] = lasagne.layers.Conv2DLayer(nnet[nnet.keys()[-1]], 16, 2)\n",
    "nnet['conv_22'] = lasagne.layers.Conv2DLayer(nnet[nnet.keys()[-1]], 16, 2)\n",
    "nnet['pool_2'] = lasagne.layers.Pool2DLayer(nnet[nnet.keys()[-1]], 2)\n",
    "print (nnet.keys()[-1], nnet[nnet.keys()[-1]].output_shape)\n",
    "\n",
    "nnet['conv_31'] = lasagne.layers.Conv2DLayer(nnet[nnet.keys()[-1]], 32, 2)\n",
    "nnet['conv_32'] = lasagne.layers.Conv2DLayer(nnet[nnet.keys()[-1]], 32, 2)\n",
    "nnet['pool_3'] = lasagne.layers.Pool2DLayer(nnet[nnet.keys()[-1]], 2)\n",
    "print (nnet.keys()[-1], nnet[nnet.keys()[-1]].output_shape)\n",
    "\n",
    "nnet['dense_1'] = lasagne.layers.DenseLayer(nnet[nnet.keys()[-1]], 100)\n",
    "nnet['dense_2'] = lasagne.layers.DenseLayer(nnet[nnet.keys()[-1]], y.shape[1], \n",
    "                                            nonlinearity=lasagne.nonlinearities.softmax)\n",
    "\n",
    "nnet_output = nnet[nnet.keys()[-1]]"
   ]
  },
  {
   "cell_type": "code",
   "execution_count": 14,
   "metadata": {
    "collapsed": false
   },
   "outputs": [
    {
     "name": "stdout",
     "output_type": "stream",
     "text": [
      "[W, b, W, b, W, b, W, b, W, b, W, b, W, b, W, b]\n"
     ]
    },
    {
     "name": "stderr",
     "output_type": "stream",
     "text": [
      "/home/amir/git_downloads/docker-jupyter-keras-tools/src/lasagne/lasagne/layers/pool.py:267: UserWarning: DEPRECATION: the 'ds' parameter is not going to exist anymore as it is going to be replaced by the parameter 'ws'.\n",
      "  mode=self.mode,\n",
      "/home/amir/git_downloads/docker-jupyter-keras-tools/src/lasagne/lasagne/layers/pool.py:267: UserWarning: DEPRECATION: the 'st' parameter is not going to exist anymore as it is going to be replaced by the parameter 'stride'.\n",
      "  mode=self.mode,\n",
      "/home/amir/git_downloads/docker-jupyter-keras-tools/src/lasagne/lasagne/layers/pool.py:267: UserWarning: DEPRECATION: the 'padding' parameter is not going to exist anymore as it is going to be replaced by the parameter 'pad'.\n",
      "  mode=self.mode,\n"
     ]
    }
   ],
   "source": [
    "#network prediction (theano-transformation)\n",
    "y_predicted = lasagne.layers.get_output(nnet_output)\n",
    "\n",
    "#all network weights (shared variables)\n",
    "all_weights = lasagne.layers.get_all_params(nnet_output,trainable=True)\n",
    "print all_weights"
   ]
  },
  {
   "cell_type": "code",
   "execution_count": 15,
   "metadata": {
    "collapsed": false
   },
   "outputs": [],
   "source": [
    "#Mean categorical crossentropy as a loss function - similar to logistic loss but for multiclass targets\n",
    "loss = lasagne.objectives.categorical_crossentropy(y_predicted, target_y).mean() "
   ]
  },
  {
   "cell_type": "code",
   "execution_count": 16,
   "metadata": {
    "collapsed": false
   },
   "outputs": [],
   "source": [
    "#prediction accuracy (WITH dropout)\n",
    "accuracy = lasagne.objectives.categorical_accuracy(y_predicted, target_y).mean()\n",
    "#This function computes gradient AND composes weight updates just like you did earlier\n",
    "updates_sgd = lasagne.updates.adamax(loss, all_weights, learning_rate=0.005)"
   ]
  },
  {
   "cell_type": "code",
   "execution_count": 17,
   "metadata": {
    "collapsed": false
   },
   "outputs": [],
   "source": [
    "#function that computes loss and updates weights\n",
    "train_fun = theano.function([input_img, target_y],[loss, accuracy], updates = updates_sgd)\n",
    "#function that computes loss and updates weights\n",
    "val_fun = theano.function([input_img, target_y], [loss, accuracy])"
   ]
  },
  {
   "cell_type": "code",
   "execution_count": 18,
   "metadata": {
    "collapsed": true
   },
   "outputs": [],
   "source": [
    "pred_fun = theano.function([input_img], y_predicted)"
   ]
  },
  {
   "cell_type": "code",
   "execution_count": null,
   "metadata": {
    "collapsed": false
   },
   "outputs": [],
   "source": []
  },
  {
   "cell_type": "code",
   "execution_count": null,
   "metadata": {
    "collapsed": true
   },
   "outputs": [],
   "source": []
  },
  {
   "cell_type": "raw",
   "metadata": {
    "collapsed": true
   },
   "source": [
    "with open('some_file_for_output.txt', 'w') as f:\n",
    "    f.write(\"\\n  go! \\n\")\n",
    "    f.close()"
   ]
  },
  {
   "cell_type": "raw",
   "metadata": {
    "collapsed": false,
    "scrolled": true
   },
   "source": [
    "import time\n",
    " \n",
    "num_epochs = 50 # amount of passes through the data\n",
    "            \n",
    "batch_size = 100 # number of samples processed at each function call\n",
    "print 'starting trainig...'\n",
    "\n",
    "train_loss_ = []\n",
    "val_loss_ = []\n",
    "val_acc_ = []\n",
    "\n",
    "for epoch in range(num_epochs):\n",
    "    \n",
    "    batch_size += 10\n",
    "    \n",
    "    # In each epoch, we do a full pass over the training data:\n",
    "    train_err = 0\n",
    "    train_acc = 0\n",
    "    train_batches = 0\n",
    "    start_time = time.time()\n",
    "    for batch in iterate_minibatches(X_train, y_train, batch_size):\n",
    "        inputs, targets = batch\n",
    "        train_err_batch, train_acc_batch = train_fun(inputs, targets)\n",
    "        train_err += train_err_batch\n",
    "        train_acc += train_acc_batch\n",
    "        train_batches += 1\n",
    "\n",
    "    # And a full pass over the validation data:\n",
    "    val_acc = 0\n",
    "    val_batches = 0\n",
    "    val_err = 0\n",
    "    for batch in iterate_minibatches(X_val, y_val, batch_size):\n",
    "        inputs, targets = batch\n",
    "        _val_err, _val_acc = val_fun(inputs, targets)\n",
    "        val_acc += _val_acc\n",
    "        val_err += _val_err\n",
    "        val_batches += 1\n",
    "         \n",
    "    train_loss_.append(train_err / train_batches)\n",
    "    val_loss_.append(val_err / val_batches)\n",
    "    val_acc_.append(val_acc / val_batches * 100)\n",
    "\n",
    "    print(\"Epoch {} of {} took {:.3f}s\".format(epoch + 1, num_epochs, time.time() - start_time))\n",
    "\n",
    "    print(\"  training loss (in-iteration):\\t\\t{:.6f}\".format(train_err / train_batches))\n",
    "    print(\"  train accuracy:\\t\\t{:.2f} %\".format(train_acc / train_batches * 100))\n",
    "    print(\"  validation loss (in-iteration):\\t\\t{:.6f}\".format(val_err / val_batches))\n",
    "    print(\"  validation accuracy:\\t\\t{:.2f} %\".format(val_acc / val_batches * 100))\n",
    "\n",
    "    \n",
    "    with open('some_file_for_output.txt', 'a') as f:\n",
    "        f.write(\"\\n  Epoch {} of {} took {:.3f}s\".format(epoch + 1, num_epochs, time.time() - start_time))\n",
    "        f.write(\"\\n  training loss (in-iteration):\\t\\t{:.6f}\".format(train_err / train_batches))\n",
    "        f.write(\"\\n  train accuracy:\\t\\t{:.2f} %\".format(train_acc / train_batches * 100))\n",
    "        f.write(\"\\n  validation loss (in-iteration):\\t\\t{:.6f}\".format(val_err / val_batches))\n",
    "        f.write(\"\\n  validation accuracy:\\t\\t{:.2f} %\".format(val_acc / val_batches * 100))\n",
    "        f.close()"
   ]
  },
  {
   "cell_type": "code",
   "execution_count": 22,
   "metadata": {
    "collapsed": false
   },
   "outputs": [
    {
     "name": "stdout",
     "output_type": "stream",
     "text": [
      "\n",
      "\n",
      "  go! \n",
      "\n",
      "\n",
      "\n",
      "  Epoch 1 of 50 took 1818.059s\n",
      "\n",
      "  training loss (in-iteration):\t\t0.494242\n",
      "\n",
      "  train accuracy:\t\t84.30 %\n",
      "\n",
      "  validation loss (in-iteration):\t\t0.188630\n",
      "\n",
      "  validation accuracy:\t\t94.43 %\n",
      "\n",
      "  Epoch 2 of 50 took 1799.743s\n",
      "\n",
      "  training loss (in-iteration):\t\t0.171911\n",
      "\n",
      "  train accuracy:\t\t94.68 %\n",
      "\n",
      "  validation loss (in-iteration):\t\t0.124711\n",
      "\n",
      "  validation accuracy:\t\t96.28 %\n",
      "\n",
      "  Epoch 3 of 50 took 1798.215s\n",
      "\n",
      "  training loss (in-iteration):\t\t0.129977\n",
      "\n",
      "  train accuracy:\t\t96.04 %\n",
      "\n",
      "  validation loss (in-iteration):\t\t0.111339\n",
      "\n",
      "  validation accuracy:\t\t96.79 %\n",
      "\n",
      "  Epoch 4 of 50 took 1799.643s\n",
      "\n",
      "  training loss (in-iteration):\t\t0.106991\n",
      "\n",
      "  train accuracy:\t\t96.79 %\n",
      "\n",
      "  validation loss (in-iteration):\t\t0.099906\n",
      "\n",
      "  validation accuracy:\t\t97.03 %\n",
      "\n",
      "  Epoch 5 of 50 took 1797.478s\n",
      "\n",
      "  training loss (in-iteration):\t\t0.092860\n",
      "\n",
      "  train accuracy:\t\t97.13 %\n",
      "\n",
      "  validation loss (in-iteration):\t\t0.096204\n",
      "\n",
      "  validation accuracy:\t\t97.05 %\n"
     ]
    }
   ],
   "source": [
    "with open('some_file_for_output.txt', 'r') as f:\n",
    "    for i in f.readlines():\n",
    "        print i"
   ]
  },
  {
   "cell_type": "code",
   "execution_count": 20,
   "metadata": {
    "collapsed": false,
    "scrolled": false
   },
   "outputs": [
    {
     "data": {
      "text/plain": [
       "<matplotlib.legend.Legend at 0x7f7e061a2fd0>"
      ]
     },
     "execution_count": 20,
     "metadata": {},
     "output_type": "execute_result"
    },
    {
     "data": {
      "image/png": "[encoded data removed]",
      "text/plain": [
       "<matplotlib.figure.Figure at 0x7f7e062f3f50>"
      ]
     },
     "metadata": {},
     "output_type": "display_data"
    }
   ],
   "source": [
    "eps = np.arange(len(train_loss_))\n",
    "\n",
    "plt.figure(figsize=(15, 8))\n",
    "\n",
    "plt.subplot(1, 2, 1)\n",
    "plt.title('Losses')\n",
    "plt.xlabel('Epoch')\n",
    "plt.ylim((0, 2))\n",
    "plt.ylabel('Loss')\n",
    "plt.plot(eps, train_loss_, label='train')\n",
    "plt.plot(eps, val_loss_, label='val')\n",
    "plt.legend(loc=0)\n",
    "\n",
    "plt.subplot(1, 2, 2)\n",
    "plt.title('Accuracy')\n",
    "plt.xlabel('Epoch')\n",
    "plt.ylabel('Accuracy')\n",
    "plt.plot(eps, val_acc_, label='val')\n",
    "plt.legend(loc=0)\n",
    "\n",
    "# plt.savefig('./some_picture.png')"
   ]
  },
  {
   "cell_type": "markdown",
   "metadata": {
    "collapsed": false
   },
   "source": [
    ">> на тесте"
   ]
  },
  {
   "cell_type": "code",
   "execution_count": 33,
   "metadata": {
    "collapsed": false
   },
   "outputs": [],
   "source": [
    "some_preds = pred_fun(X_test[:1000])"
   ]
  },
  {
   "cell_type": "code",
   "execution_count": 34,
   "metadata": {
    "collapsed": false
   },
   "outputs": [
    {
     "data": {
      "text/plain": [
       "0.97099999999999997"
      ]
     },
     "execution_count": 34,
     "metadata": {},
     "output_type": "execute_result"
    }
   ],
   "source": [
    "np.sum(np.argmax(y_test[:1000], axis=1) == np.argmax(some_preds, axis=1)) * 1.0 / len(np.argmax(some_preds, axis=1))"
   ]
  },
  {
   "cell_type": "markdown",
   "metadata": {},
   "source": [
    ">> на тесте другого датасета"
   ]
  },
  {
   "cell_type": "code",
   "execution_count": 35,
   "metadata": {
    "collapsed": true
   },
   "outputs": [],
   "source": [
    "some_preds = pred_fun(X_inv[:1000])"
   ]
  },
  {
   "cell_type": "code",
   "execution_count": 36,
   "metadata": {
    "collapsed": false
   },
   "outputs": [
    {
     "data": {
      "text/plain": [
       "0.16900000000000001"
      ]
     },
     "execution_count": 36,
     "metadata": {},
     "output_type": "execute_result"
    }
   ],
   "source": [
    "np.sum(np.argmax(y_inv[:1000], axis=1) == np.argmax(some_preds, axis=1)) * 1.0 / len(np.argmax(some_preds, axis=1))"
   ]
  },
  {
   "cell_type": "code",
   "execution_count": 37,
   "metadata": {
    "collapsed": true
   },
   "outputs": [],
   "source": [
    "#saving\n",
    "np.savez('model_cnn_mnist1.npz', *lasagne.layers.get_all_param_values(nnet['dense_2']))"
   ]
  },
  {
   "cell_type": "code",
   "execution_count": 38,
   "metadata": {
    "collapsed": false,
    "scrolled": false
   },
   "outputs": [
    {
     "name": "stdout",
     "output_type": "stream",
     "text": [
      "итого 204\r\n",
      "drwxrwxr-x 4 amir amir   4096 дек  5 23:35 .\r\n",
      "drwxrwxr-x 9 amir amir   4096 дек  5 19:57 ..\r\n",
      "-rw-rw-r-- 1 amir amir 118688 дек  5 23:34 Domain_adaptation.ipynb\r\n",
      "drwxr-xr-x 2 amir amir   4096 дек  5 20:06 .ipynb_checkpoints\r\n",
      "drwxrwxr-x 2 amir amir   4096 дек  5 19:59 mnist\r\n",
      "-rw-rw-r-- 1 amir amir   4874 дек  5 19:58 mnisty.py\r\n",
      "-rw-rw-r-- 1 amir amir   4925 дек  5 19:58 mnisty.pyc\r\n",
      "-rw-rw-r-- 1 amir amir  52378 дек  5 23:35 model_cnn_mnist1.npz\r\n",
      "-rw-rw-r-- 1 amir amir    888 дек  5 23:15 some_file_for_output.txt\r\n"
     ]
    }
   ],
   "source": [
    "!ls -la"
   ]
  },
  {
   "cell_type": "markdown",
   "metadata": {},
   "source": [
    "#And load them again later on like this:\n",
    "with np.load('model_1.npz') as f:\n",
    "    param_values = [f['arr_%d' % i] for i in range(len(f.files))]\n",
    "lasagne.layers.set_all_param_values(nn, param_values)"
   ]
  },
  {
   "cell_type": "markdown",
   "metadata": {},
   "source": [
    "-------\n",
    "_______\n",
    "\n",
    "_______"
   ]
  },
  {
   "cell_type": "markdown",
   "metadata": {},
   "source": [
    "### Domain Adaptation by Ganin, Lempitsky\n",
    "\n",
    "https://arxiv.org/pdf/1409.7495.pdf"
   ]
  },
  {
   "cell_type": "markdown",
   "metadata": {},
   "source": [
    "![](https://i.stack.imgur.com/akoSm.png)"
   ]
  },
  {
   "cell_type": "markdown",
   "metadata": {},
   "source": [
    "____"
   ]
  },
  {
   "cell_type": "code",
   "execution_count": 210,
   "metadata": {
    "collapsed": false
   },
   "outputs": [],
   "source": [
    "img_shape = (None, 1, 28, 28)\n",
    "\n",
    "input_img = T.tensor4('X_image')\n",
    "# target_y = T.vector(\"target_class\", dtype='int32')\n",
    "target_y = T.matrix(\"target\", dtype='int32')\n",
    "target_domain = T.vector(\"target_domain\", dtype='int32')"
   ]
  },
  {
   "cell_type": "code",
   "execution_count": 211,
   "metadata": {
    "collapsed": false
   },
   "outputs": [
    {
     "name": "stdout",
     "output_type": "stream",
     "text": [
      "('pool_1', (None, 8, 13, 13))\n",
      "('pool_2', (None, 32, 5, 5))\n"
     ]
    }
   ],
   "source": [
    "da_nnet = OrderedDict()\n",
    "da_nnet['input'] = lasagne.layers.InputLayer(img_shape, input_img)\n",
    "da_nnet['conv_11'] = lasagne.layers.Conv2DLayer(da_nnet[da_nnet.keys()[-1]], 4, 2, name='conv_11')\n",
    "da_nnet['conv_12'] = lasagne.layers.Conv2DLayer(da_nnet[da_nnet.keys()[-1]], 8, 2, name='conv_12')\n",
    "da_nnet['pool_1'] = lasagne.layers.Pool2DLayer(da_nnet[da_nnet.keys()[-1]], 2, name='pool_1')\n",
    "print (da_nnet.keys()[-1], da_nnet[da_nnet.keys()[-1]].output_shape)\n",
    "\n",
    "da_nnet['conv_21'] = lasagne.layers.Conv2DLayer(da_nnet[da_nnet.keys()[-1]], 16, 2, name='conv_21')\n",
    "da_nnet['conv_22'] = lasagne.layers.Conv2DLayer(da_nnet[da_nnet.keys()[-1]], 32, 2, name='conv_22')\n",
    "da_nnet['pool_2'] = lasagne.layers.Pool2DLayer(da_nnet[da_nnet.keys()[-1]], 2, name='pool_2')\n",
    "print (da_nnet.keys()[-1], da_nnet[da_nnet.keys()[-1]].output_shape)\n",
    "\n",
    "# da_nnet['conv_31'] = lasagne.layers.Conv2DLayer(da_nnet[da_nnet.keys()[-1]], 32, 2, name='conv_31')\n",
    "# da_nnet['conv_32'] = lasagne.layers.Conv2DLayer(da_nnet[da_nnet.keys()[-1]], 32, 2, name='conv_32')\n",
    "# da_nnet['pool_3'] = lasagne.layers.Pool2DLayer(da_nnet[da_nnet.keys()[-1]], 2, name='pool_3')\n",
    "# print (da_nnet.keys()[-1], da_nnet[da_nnet.keys()[-1]].output_shape)\n",
    "\n",
    "da_nnet['feature'] = lasagne.layers.DenseLayer(da_nnet[da_nnet.keys()[-1]], 32, name='features')\n",
    "\n",
    "######\n",
    "\n",
    "da_nnet['classifier_dense_1'] = lasagne.layers.DenseLayer(da_nnet['feature'], 64, name='clf_dense_1')\n",
    "da_nnet['classifier_dense_2'] = lasagne.layers.DenseLayer(da_nnet['classifier_dense_1'], 48, name='clf_dense_2')\n",
    "\n",
    "da_nnet['classifier_ans'] = lasagne.layers.DenseLayer(da_nnet['classifier_dense_2'], y.shape[1], \n",
    "                                    nonlinearity=lasagne.nonlinearities.softmax, name='clf_ans')\n",
    "\n",
    "######\n",
    "\n",
    "da_nnet['domain_dense_1'] = lasagne.layers.DenseLayer(da_nnet['feature'], 64, name='dom_dense_1')\n",
    "da_nnet['domain_dense_2'] = lasagne.layers.DenseLayer(da_nnet['domain_dense_1'], 32, name='dom_dense_2')\n",
    "\n",
    "da_nnet['domain_ans'] = lasagne.layers.DenseLayer(da_nnet['domain_dense_2'], 1, \n",
    "                                       nonlinearity=lasagne.nonlinearities.sigmoid, \n",
    "                                                                 name='domain_ans')\n"
   ]
  },
  {
   "cell_type": "code",
   "execution_count": 212,
   "metadata": {
    "collapsed": false
   },
   "outputs": [],
   "source": [
    "clf_predicted = lasagne.layers.get_output(da_nnet['classifier_ans'])\n",
    "dom_predicted = lasagne.layers.get_output(da_nnet['domain_ans'])"
   ]
  },
  {
   "cell_type": "code",
   "execution_count": 213,
   "metadata": {
    "collapsed": true
   },
   "outputs": [],
   "source": [
    "pred_targ = theano.function([input_img], clf_predicted)"
   ]
  },
  {
   "cell_type": "code",
   "execution_count": null,
   "metadata": {
    "collapsed": true
   },
   "outputs": [],
   "source": []
  },
  {
   "cell_type": "code",
   "execution_count": 214,
   "metadata": {
    "collapsed": true
   },
   "outputs": [],
   "source": [
    "loss_classifier = lasagne.objectives.categorical_crossentropy(clf_predicted, target_y).mean() \n",
    "loss_domain = lasagne.objectives.binary_crossentropy(dom_predicted, target_domain).mean() "
   ]
  },
  {
   "cell_type": "code",
   "execution_count": 215,
   "metadata": {
    "collapsed": false
   },
   "outputs": [],
   "source": [
    "clf_weights = lasagne.layers.get_all_params(da_nnet['classifier_ans'], trainable=True)\n",
    "dom_weights = lasagne.layers.get_all_params(da_nnet['domain_ans'], trainable=True)"
   ]
  },
  {
   "cell_type": "code",
   "execution_count": 216,
   "metadata": {
    "collapsed": false
   },
   "outputs": [],
   "source": [
    "net_common_params = set(clf_weights) & set(dom_weights)\n",
    "###\n",
    "# Те веса которые с минусом должны быть в бекпропе классификатора\n",
    "###"
   ]
  },
  {
   "cell_type": "code",
   "execution_count": null,
   "metadata": {
    "collapsed": false
   },
   "outputs": [],
   "source": []
  },
  {
   "cell_type": "code",
   "execution_count": 217,
   "metadata": {
    "collapsed": false
   },
   "outputs": [],
   "source": [
    "lambd = theano.shared(1., name='lambda')"
   ]
  },
  {
   "cell_type": "code",
   "execution_count": null,
   "metadata": {
    "collapsed": true
   },
   "outputs": [],
   "source": []
  },
  {
   "cell_type": "code",
   "execution_count": 218,
   "metadata": {
    "collapsed": false
   },
   "outputs": [],
   "source": [
    "updates_dom_sgd_with_minus = lasagne.updates.adamax( - lambd * loss_domain, list(net_common_params), \n",
    "                                                    learning_rate=0.005)"
   ]
  },
  {
   "cell_type": "code",
   "execution_count": 219,
   "metadata": {
    "collapsed": false
   },
   "outputs": [],
   "source": [
    "updates_dom_sgd = updates_dom_sgd_with_minus.update(lasagne.updates.adamax(loss_domain, \n",
    "                                            list(set(dom_weights) - net_common_params), \n",
    "                                            learning_rate=0.005))"
   ]
  },
  {
   "cell_type": "code",
   "execution_count": 220,
   "metadata": {
    "collapsed": false
   },
   "outputs": [],
   "source": [
    "updates_clf_sgd = lasagne.updates.adamax(loss_classifier, clf_weights, learning_rate=0.005)"
   ]
  },
  {
   "cell_type": "code",
   "execution_count": null,
   "metadata": {
    "collapsed": true
   },
   "outputs": [],
   "source": []
  },
  {
   "cell_type": "code",
   "execution_count": 221,
   "metadata": {
    "collapsed": true
   },
   "outputs": [],
   "source": [
    "accuracy_loss = lasagne.objectives.categorical_accuracy(clf_predicted, target_y).mean() \n",
    "accuracy_bin_loss = lasagne.objectives.binary_accuracy(dom_predicted, target_domain).mean() "
   ]
  },
  {
   "cell_type": "code",
   "execution_count": null,
   "metadata": {
    "collapsed": true
   },
   "outputs": [],
   "source": []
  },
  {
   "cell_type": "code",
   "execution_count": 222,
   "metadata": {
    "collapsed": false
   },
   "outputs": [],
   "source": [
    "train_clf_fun = theano.function([input_img, target_y], loss_classifier, updates = updates_clf_sgd)\n",
    "val_clf_fun = theano.function([input_img, target_y], [loss_classifier, accuracy_loss])\n",
    "\n",
    "train_dom_fun = theano.function([input_img, target_domain], loss_domain, updates = updates_dom_sgd)\n",
    "val_dom_fun = theano.function([input_img, target_domain], [loss_domain, accuracy_bin_loss])"
   ]
  },
  {
   "cell_type": "code",
   "execution_count": null,
   "metadata": {
    "collapsed": false
   },
   "outputs": [],
   "source": []
  },
  {
   "cell_type": "code",
   "execution_count": null,
   "metadata": {
    "collapsed": true
   },
   "outputs": [],
   "source": []
  },
  {
   "cell_type": "code",
   "execution_count": 223,
   "metadata": {
    "collapsed": false
   },
   "outputs": [
    {
     "data": {
      "text/plain": [
       "(array(2.3030494646592574), array(0.6583121716976166))"
      ]
     },
     "execution_count": 223,
     "metadata": {},
     "output_type": "execute_result"
    }
   ],
   "source": [
    "### Проверим что все запускается\n",
    "\n",
    "train_clf_fun(X_train[:110], y_train[:110]), train_dom_fun(X_dom_train[:2], y_dom_train[:2])"
   ]
  },
  {
   "cell_type": "markdown",
   "metadata": {},
   "source": [
    "_____"
   ]
  },
  {
   "cell_type": "code",
   "execution_count": 224,
   "metadata": {
    "collapsed": true
   },
   "outputs": [],
   "source": [
    "import datetime"
   ]
  },
  {
   "cell_type": "code",
   "execution_count": 225,
   "metadata": {
    "collapsed": true
   },
   "outputs": [],
   "source": [
    "with open('some_file_for_output1.txt', 'w') as f:\n",
    "    f.write(\"\\n  start at {}! \\n\".format(str(datetime.datetime.now())[:19]))\n",
    "    f.close()"
   ]
  },
  {
   "cell_type": "code",
   "execution_count": null,
   "metadata": {
    "collapsed": false,
    "scrolled": true
   },
   "outputs": [
    {
     "name": "stdout",
     "output_type": "stream",
     "text": [
      "starting trainig...\n",
      "\n",
      "  training clf loss (in-iteration):\t\t0.389165\n",
      "\n",
      "\t\t  757.130s\n",
      "\n",
      "  validation on base domain dataset:\n",
      "\n",
      "\t\t  validation clf loss (in-iteration):\t\t0.116115\n",
      "\n",
      "\t\t  val accuracy (in-iteration):\t\t0.966768\n",
      "\n",
      "\t\t  54.552s\n",
      "\n",
      "  validation on inverse dataset:\n",
      "\n",
      "\t\t  validation clf loss (in-iteration):\t\t8.460004\n",
      "\n",
      "\t\t  val accuracy (in-iteration):\t\t0.051626\n",
      "\n",
      "\t\t  54.954s\n",
      "\n",
      "  training domain loss (in-iteration):\t\t1.333369\n",
      "\n",
      "\t\t  556.107s\n",
      "\n",
      "  validation domain loss (in-iteration):\t\t1.444543\n",
      "\n",
      "\t\t  validation acc (in-iteration):\t\t0.500126\n",
      "\n",
      "\t\t  112.874s\n",
      "\n",
      "  validation on base domain dataset:\n",
      "\n",
      "\t\t  validation clf loss (in-iteration):\t\t0.115595\n",
      "\n",
      "\t\t  val accuracy (in-iteration):\t\t0.966972\n",
      "\n",
      "\t\t  55.747s\n",
      "\n",
      "  validation on inverse dataset:\n",
      "\n",
      "\t\t  validation clf loss (in-iteration):\t\t8.459207\n",
      "\n",
      "\t\t  val accuracy (in-iteration):\t\t0.052439\n",
      "\n",
      "\t\t  54.172s\n",
      "\n",
      "  training clf loss (in-iteration):\t\t0.104407\n",
      "\n",
      "\t\t  776.175s\n",
      "\n",
      "  validation on base domain dataset:\n",
      "\n",
      "\t\t  validation clf loss (in-iteration):\t\t0.081459\n",
      "\n",
      "\t\t  val accuracy (in-iteration):\t\t0.976292\n",
      "\n",
      "\t\t  55.434s\n",
      "\n",
      "  validation on inverse dataset:\n",
      "\n",
      "\t\t  validation clf loss (in-iteration):\t\t7.870161\n",
      "\n",
      "\t\t  val accuracy (in-iteration):\t\t0.062107\n",
      "\n",
      "\t\t  54.891s\n"
     ]
    }
   ],
   "source": [
    "\n",
    " \n",
    "num_epochs = 50 # amount of passes through the data\n",
    "            \n",
    "batch_size = 200 # number of samples processed at each function call\n",
    "print 'starting trainig...'\n",
    "\n",
    "#train_loss_ = []\n",
    "val_acc_base_ = []\n",
    "val_acc_inv_ = []\n",
    "\n",
    "for epoch in tqdm_notebook(range(num_epochs), leave=False, desc='epoches'):\n",
    "    \n",
    "    \n",
    "    batch_size += 5\n",
    "\n",
    "    #################\n",
    "    #   Classifier  #\n",
    "    #################\n",
    "    \n",
    "    # In each epoch, we do a full pass over the training data:\n",
    "    train_err = 0\n",
    "    train_batches = 0\n",
    "    start_time = time.time()\n",
    "    for batch in tqdm_notebook(iterate_minibatches(X_train, y_train, batch_size), \n",
    "                                total=int(y_train.shape[0] / batch_size), leave=False, \n",
    "                                                             desc = 'classifier_training'):\n",
    "        inputs, targets = batch\n",
    "        train_err_batch = train_clf_fun(inputs, targets)\n",
    "        train_err += train_err_batch\n",
    "        train_batches += 1\n",
    "        \n",
    "    print (\"\\n  training clf loss (in-iteration):\\t\\t{:.6f}\".format(train_err / train_batches))\n",
    "    print (\"\\n\\t\\t  {:.3f}s\".format(time.time() - start_time))\n",
    "    \n",
    "    \n",
    "    ################\n",
    "    #  validation  #\n",
    "    ################\n",
    "    #\n",
    "    val_err = 0\n",
    "    val_acc = 0\n",
    "    val_batches = 0\n",
    "    start_time = time.time()\n",
    "    for batch in tqdm_notebook(iterate_minibatches(X_val, y_val, batch_size), \n",
    "                                total=int(y_val.shape[0]/batch_size), leave=False, \n",
    "                                       desc = 'classifier_validation_on_base_dataset'):\n",
    "        inputs, targets = batch\n",
    "        val_err_batch, val_acc_batch = val_clf_fun(inputs, targets)\n",
    "        val_err += val_err_batch\n",
    "        val_acc += val_acc_batch\n",
    "        val_batches += 1\n",
    "    print (\"\\n  validation on base domain dataset:\")\n",
    "    print (\"\\n\\t\\t  validation clf loss (in-iteration):\\t\\t{:.6f}\".format(val_err / val_batches))\n",
    "    print (\"\\n\\t\\t  val accuracy (in-iteration):\\t\\t{:.6f}\".format(val_acc / val_batches))\n",
    "    print (\"\\n\\t\\t  {:.3f}s\".format(time.time() - start_time))\n",
    "    \n",
    "    val_acc_base_.append(val_acc / val_batches)\n",
    "\n",
    "    \n",
    "    val_err = 0\n",
    "    val_acc = 0\n",
    "    val_batches = 0\n",
    "    start_time = time.time()\n",
    "    for batch in tqdm_notebook(iterate_minibatches(X_inv_val, y_inv_val, batch_size), \n",
    "                                    total=int(y_inv_val.shape[0]/batch_size), leave=False, \n",
    "                                            desc = 'classifier_validation_on_inverse_dataset'):\n",
    "        inputs, targets = batch\n",
    "        val_err_batch, val_acc_batch = val_clf_fun(inputs, targets)\n",
    "        val_err += val_err_batch\n",
    "        val_acc += val_acc_batch\n",
    "        val_batches += 1\n",
    "    print (\"\\n  validation on inverse dataset:\")    \n",
    "    print (\"\\n\\t\\t  validation clf loss (in-iteration):\\t\\t{:.6f}\".format(val_err / val_batches))\n",
    "    print (\"\\n\\t\\t  val accuracy (in-iteration):\\t\\t{:.6f}\".format(val_acc / val_batches))\n",
    "    print (\"\\n\\t\\t  {:.3f}s\".format(time.time() - start_time))\n",
    "    \n",
    "    val_acc_inv_.append(val_acc / val_batches)\n",
    "    \n",
    "    #################\n",
    "    #  DOMAIN LABEL #\n",
    "    #################\n",
    "    \n",
    "    _train_err = 0\n",
    "    _train_batches = 0\n",
    "    start_time = time.time()\n",
    "    for batch in tqdm_notebook(iterate_minibatches(X_dom_train, y_dom_train, batch_size),\n",
    "                                    total = int( y_dom_train.shape[0]/batch_size), leave=False, \n",
    "                                                    desc = 'domain_label_classification_training'):\n",
    "        inputs, targets = batch\n",
    "        train_err_batch = train_dom_fun(inputs, targets)\n",
    "        _train_err += train_err_batch\n",
    "        _train_batches += 1\n",
    "        \n",
    "    print (\"\\n  training domain loss (in-iteration):\\t\\t{:.6f}\".format(_train_err / _train_batches))    \n",
    "    print (\"\\n\\t\\t  {:.3f}s\".format(time.time() - start_time))\n",
    "    \n",
    "    # domain validation \n",
    "    _val_err = 0\n",
    "    _val_acc = 0\n",
    "    _val_batches = 0\n",
    "    start_time = time.time()\n",
    "    for batch in tqdm_notebook(iterate_minibatches(X_dom_val, y_dom_val, batch_size),\n",
    "                                  total = int(y_dom_val.shape[0]/batch_size), leave=False,\n",
    "                                                             desc = 'domain_label_validation'):\n",
    "        inputs, targets = batch\n",
    "        val_err_batch, val_acc_batch = val_dom_fun(inputs, targets)\n",
    "        _val_err += train_err_batch\n",
    "        _val_acc += val_acc_batch\n",
    "        _val_batches += 1\n",
    "\n",
    "    print (\"\\n  validation domain loss (in-iteration):\\t\\t{:.6f}\".format(_val_err / _val_batches))  \n",
    "    print (\"\\n\\t\\t  validation acc (in-iteration):\\t\\t{:.6f}\".format(_val_acc / _val_batches))  \n",
    "    print (\"\\n\\t\\t  {:.3f}s\".format(time.time() - start_time))\n",
    "     \n",
    "    \n",
    "    ################\n",
    "    #  validation  #\n",
    "    ################\n",
    "    # Again after domain transfer\n",
    "    \n",
    "    val_err = 0\n",
    "    val_acc = 0\n",
    "    val_batches = 0\n",
    "    start_time = time.time()\n",
    "    for batch in tqdm_notebook(iterate_minibatches(X_val, y_val, batch_size), \n",
    "                                total=int(y_val.shape[0] / batch_size), leave=False, \n",
    "                                       desc = 'classifier_validation_on_base_dataset'):\n",
    "        inputs, targets = batch\n",
    "        val_err_batch, val_acc_batch = val_clf_fun(inputs, targets)\n",
    "        val_err += val_err_batch\n",
    "        val_acc += val_acc_batch\n",
    "        val_batches += 1\n",
    "    print (\"\\n  validation on base domain dataset:\")\n",
    "    print (\"\\n\\t\\t  validation clf loss (in-iteration):\\t\\t{:.6f}\".format(val_err / val_batches))\n",
    "    print (\"\\n\\t\\t  val accuracy (in-iteration):\\t\\t{:.6f}\".format(val_acc / val_batches))\n",
    "    print (\"\\n\\t\\t  {:.3f}s\".format(time.time() - start_time))\n",
    "    val_acc_base_.append(val_acc / val_batches)\n",
    "     \n",
    "    \n",
    "    val_err = 0\n",
    "    val_acc = 0\n",
    "    val_batches = 0\n",
    "    start_time = time.time()\n",
    "    for batch in tqdm_notebook(iterate_minibatches(X_inv_val, y_inv_val, batch_size), \n",
    "                                    total=int(y_inv_val.shape[0]/batch_size), leave=False, \n",
    "                                            desc = 'classifier_validation_on_inverse_dataset'):\n",
    "        inputs, targets = batch\n",
    "        val_err_batch, val_acc_batch = val_clf_fun(inputs, targets)\n",
    "        val_err += val_err_batch\n",
    "        val_acc += val_acc_batch\n",
    "        val_batches += 1\n",
    "    print (\"\\n  validation on inverse dataset:\")    \n",
    "    print (\"\\n\\t\\t  validation clf loss (in-iteration):\\t\\t{:.6f}\".format(val_err / val_batches))\n",
    "    print (\"\\n\\t\\t  val accuracy (in-iteration):\\t\\t{:.6f}\".format(val_acc / val_batches))\n",
    "    print (\"\\n\\t\\t  {:.3f}s\".format(time.time() - start_time))\n",
    "    val_acc_inv_.append(val_acc / val_batches)\n",
    "    \n",
    "    lambd *= 0.9\n",
    "    \n",
    "#     with open('some_file_for_output1.txt', 'a') as f:\n",
    "#         f.write(\"\\n  Epoch {} of {} took {:.3f}s\".format(epoch + 1, num_epochs, time.time() - start_time))\n",
    "#         f.write(\"\\n  training loss (in-iteration):\\t\\t{:.6f}\".format(train_err / train_batches))\n",
    "#         f.write(\"\\n  validation loss (in-iteration):\\t\\t{:.6f}\".format(_train_err / _train_batches))\n",
    "#         f.close()"
   ]
  },
  {
   "cell_type": "code",
   "execution_count": null,
   "metadata": {
    "collapsed": true
   },
   "outputs": [],
   "source": []
  },
  {
   "cell_type": "code",
   "execution_count": null,
   "metadata": {
    "collapsed": true
   },
   "outputs": [],
   "source": [
    "plt.plot(val_acc_base_)"
   ]
  },
  {
   "cell_type": "code",
   "execution_count": null,
   "metadata": {
    "collapsed": false
   },
   "outputs": [],
   "source": [
    "plt.plot(val_acc_inv_)"
   ]
  },
  {
   "cell_type": "code",
   "execution_count": null,
   "metadata": {
    "collapsed": true
   },
   "outputs": [],
   "source": []
  },
  {
   "cell_type": "code",
   "execution_count": null,
   "metadata": {
    "collapsed": true
   },
   "outputs": [],
   "source": []
  },
  {
   "cell_type": "markdown",
   "metadata": {
    "collapsed": true
   },
   "source": [
    "> Изменить порядок тренировки - сначала домейн, потом классификатор ??? чтобы не ломалось?"
   ]
  },
  {
   "cell_type": "code",
   "execution_count": null,
   "metadata": {
    "collapsed": true
   },
   "outputs": [],
   "source": []
  },
  {
   "cell_type": "code",
   "execution_count": null,
   "metadata": {
    "collapsed": true
   },
   "outputs": [],
   "source": []
  },
  {
   "cell_type": "code",
   "execution_count": null,
   "metadata": {
    "collapsed": false
   },
   "outputs": [],
   "source": [
    "np.log(10) == 2.3025850929940459"
   ]
  },
  {
   "cell_type": "code",
   "execution_count": null,
   "metadata": {
    "collapsed": true
   },
   "outputs": [],
   "source": [
    "pred_targ(X_dom_val[-10:])"
   ]
  },
  {
   "cell_type": "code",
   "execution_count": null,
   "metadata": {
    "collapsed": true
   },
   "outputs": [],
   "source": []
  },
  {
   "cell_type": "code",
   "execution_count": null,
   "metadata": {
    "collapsed": true
   },
   "outputs": [],
   "source": []
  },
  {
   "cell_type": "code",
   "execution_count": null,
   "metadata": {
    "collapsed": true
   },
   "outputs": [],
   "source": []
  },
  {
   "cell_type": "code",
   "execution_count": null,
   "metadata": {
    "collapsed": true
   },
   "outputs": [],
   "source": []
  },
  {
   "cell_type": "code",
   "execution_count": null,
   "metadata": {
    "collapsed": true
   },
   "outputs": [],
   "source": []
  },
  {
   "cell_type": "code",
   "execution_count": null,
   "metadata": {
    "collapsed": true
   },
   "outputs": [],
   "source": []
  },
  {
   "cell_type": "code",
   "execution_count": null,
   "metadata": {
    "collapsed": true
   },
   "outputs": [],
   "source": []
  },
  {
   "cell_type": "code",
   "execution_count": null,
   "metadata": {
    "collapsed": true
   },
   "outputs": [],
   "source": []
  },
  {
   "cell_type": "raw",
   "metadata": {
    "collapsed": true
   },
   "source": [
    "http://stackoverflow.com/questions/33879736/can-i-selectively-invert-theano-gradients-during-backpropagation\n",
    "\n",
    "https://groups.google.com/forum/?utm_medium=email&utm_source=footer#!msg/lasagne-users/16H8zBNxoZ0/_nFS637pCAAJ\n",
    "\n",
    "Thinking again, should not Theano be smart enough to do the right thing if you just provide two loss functions?\n",
    "\n",
    "Taking the \"Unsupervised Domain Adaptation by Backpropagation\" paper as an example,\n",
    "your network will be something like:\n",
    "l_in = InputLayer(...)\n",
    "...\n",
    "l_sourcetask = DenseLayer(...)\n",
    "...\n",
    "l_domainclass = DenseLayer(...)\n",
    "\n",
    "I.e., you've got one output layer for the source task classification, and another output layer for\n",
    "the domain classification, and both share the same input layer (and a part of the network).\n",
    "You'd then define two ordinary loss functions:\n",
    "pred_sourcetask, pred_domainclass = lasagne.layers.get_output([l_sourcetask, l_domainclass])\n",
    "loss_sourcetask = lasagne.objectives.categorical_cross_entropy(pred_sourcetask, target_sourcetask)\n",
    "loss_domainclass = lasagne.objectives.categorical_cross_entropy(pred_domainclass, target_domainclass)\n",
    "\n",
    "\n",
    "\n",
    "And use that to update the networks as done in the paper:\n",
    "params1 = lasagne.layers.get_all_params(l_sourcetask)\n",
    "params2 = lasagne.layers.get_all_params(l_domainclass)\n",
    "common = set(params1) & set(params2)\n",
    "\n",
    "updates1 = nesterov_momentum(loss_sourcetask - lambda * loss_domainclass, params1, ...)\n",
    "updates2 = nesterov_momentum(loss_domainclass, list(set(params2) - common), ...)\n",
    "updates3 = nesterov_momentum(-lambda * loss_domainclass, list(common), ...)\n",
    "updates1.update(updates2)\n",
    "updates2.update(updates3)\n",
    "\n",
    "train1 = theano.function([l_in.input_var, target_sourcetask, target_domainclass], [], updates=updates1)\n",
    "train2 = theano.function([l_in.input_var, target_domainclass], [], updates=updates2)\n",
    "\n",
    "Now train1() can be used to train on labeled data from the source task, and train2() to train on \n",
    "unlabeled data from other domains. train1() will update the network to perform well in the source task,\n",
    "make the common representation bad for the domain classification task, but the rest of the domain classifier good \n",
    "for domain classification. train2() will make the common representation bad for the domain classification task \n",
    "and the rest of the domain classifier good for domain classification.\n",
    "Theano should figure out a computation graph that s essentially doing the same as inserting a gradient reversal \n",
    "layer. That s the advantage of having a symbolic graph compiler.\n",
    "\n",
    "Best, Jan"
   ]
  },
  {
   "cell_type": "code",
   "execution_count": null,
   "metadata": {
    "collapsed": true
   },
   "outputs": [],
   "source": []
  },
  {
   "cell_type": "code",
   "execution_count": null,
   "metadata": {
    "collapsed": true
   },
   "outputs": [],
   "source": []
  }
 ],
 "metadata": {
  "kernelspec": {
   "display_name": "Python [Root]",
   "language": "python",
   "name": "Python [Root]"
  },
  "language_info": {
   "codemirror_mode": {
    "name": "ipython",
    "version": 2
   },
   "file_extension": ".py",
   "mimetype": "text/x-python",
   "name": "python",
   "nbconvert_exporter": "python",
   "pygments_lexer": "ipython2",
   "version": "2.7.12"
  }
 },
 "nbformat": 4,
 "nbformat_minor": 0
}
