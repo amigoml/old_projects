{
 "cells": [
  {
   "cell_type": "markdown",
   "metadata": {},
   "source": [
    "#### О том как можно реализовать стекинг...\n",
    "\n",
    "в этом туторе рассмотрена техника ансамблирования моделей - стекинг и блендинг с технической стороны. \n",
    "\n",
    "коротко о том, что я под этим подразумеваю:\n",
    "\n",
    "Стекинг - когда мы на данных обучаем несколько различных моделей, а потом на их предсказаниях обучаем еще одну и берем ее ответы.\n",
    "\n",
    "Блендинг - просто взвешенная сумма ответов нескольких различных моделей.\n"
   ]
  },
  {
   "cell_type": "code",
   "execution_count": 1,
   "metadata": {
    "collapsed": true
   },
   "outputs": [],
   "source": [
    "import numpy as np\n",
    "import pandas as pd\n",
    "from sklearn.cross_validation import train_test_split\n",
    "from sklearn.cross_validation import cross_val_predict, StratifiedKFold\n",
    "from sklearn.linear_model import LogisticRegression\n",
    "from sklearn.ensemble import RandomForestClassifier\n",
    "from sklearn.preprocessing import MinMaxScaler\n",
    "from sklearn.metrics import roc_auc_score\n"
   ]
  },
  {
   "cell_type": "code",
   "execution_count": 2,
   "metadata": {
    "collapsed": false
   },
   "outputs": [],
   "source": [
    "# итак считаем какие-то данные\n",
    "dt = pd.read_csv('log_data.csv', header=None, names=['target', 'x1', 'x2'])"
   ]
  },
  {
   "cell_type": "code",
   "execution_count": 3,
   "metadata": {
    "collapsed": false
   },
   "outputs": [
    {
     "data": {
      "text/html": [
       "<div>\n",
       "<table border=\"1\" class=\"dataframe\">\n",
       "  <thead>\n",
       "    <tr style=\"text-align: right;\">\n",
       "      <th></th>\n",
       "      <th>target</th>\n",
       "      <th>x1</th>\n",
       "      <th>x2</th>\n",
       "    </tr>\n",
       "  </thead>\n",
       "  <tbody>\n",
       "    <tr>\n",
       "      <th>0</th>\n",
       "      <td>-1</td>\n",
       "      <td>-0.663827</td>\n",
       "      <td>-0.138526</td>\n",
       "    </tr>\n",
       "    <tr>\n",
       "      <th>1</th>\n",
       "      <td>1</td>\n",
       "      <td>1.994596</td>\n",
       "      <td>2.468025</td>\n",
       "    </tr>\n",
       "    <tr>\n",
       "      <th>2</th>\n",
       "      <td>-1</td>\n",
       "      <td>-1.247395</td>\n",
       "      <td>0.749425</td>\n",
       "    </tr>\n",
       "    <tr>\n",
       "      <th>3</th>\n",
       "      <td>1</td>\n",
       "      <td>2.309374</td>\n",
       "      <td>1.899836</td>\n",
       "    </tr>\n",
       "    <tr>\n",
       "      <th>4</th>\n",
       "      <td>1</td>\n",
       "      <td>0.849143</td>\n",
       "      <td>2.407750</td>\n",
       "    </tr>\n",
       "  </tbody>\n",
       "</table>\n",
       "</div>"
      ],
      "text/plain": [
       "   target        x1        x2\n",
       "0      -1 -0.663827 -0.138526\n",
       "1       1  1.994596  2.468025\n",
       "2      -1 -1.247395  0.749425\n",
       "3       1  2.309374  1.899836\n",
       "4       1  0.849143  2.407750"
      ]
     },
     "execution_count": 3,
     "metadata": {},
     "output_type": "execute_result"
    }
   ],
   "source": [
    "dt.head()"
   ]
  },
  {
   "cell_type": "code",
   "execution_count": 4,
   "metadata": {
    "collapsed": false
   },
   "outputs": [],
   "source": [
    "X = dt[['x1','x2']].values\n",
    "y = dt['target'].values"
   ]
  },
  {
   "cell_type": "code",
   "execution_count": null,
   "metadata": {
    "collapsed": true
   },
   "outputs": [],
   "source": []
  },
  {
   "cell_type": "code",
   "execution_count": 5,
   "metadata": {
    "collapsed": false
   },
   "outputs": [],
   "source": [
    "# разделим на трейн и тест \n",
    "X, X_test, y, y_test = train_test_split(X, y, test_size=0.3, random_state=1234, stratify = y)"
   ]
  },
  {
   "cell_type": "code",
   "execution_count": 6,
   "metadata": {
    "collapsed": false
   },
   "outputs": [],
   "source": [
    "# зададим  разбиение и не будем его менять\n",
    "skf = StratifiedKFold(y, n_folds=6, random_state=0)"
   ]
  },
  {
   "cell_type": "code",
   "execution_count": null,
   "metadata": {
    "collapsed": true
   },
   "outputs": [],
   "source": []
  },
  {
   "cell_type": "markdown",
   "metadata": {},
   "source": [
    "ok!\n",
    "\n",
    "мы сказали, что нам как то нужно обучить наши модели на первом уровне, а потом предсказания объединить в матрицу и на них обучить еще одну модель.\n",
    "\n",
    "Все круто, но хотелось бы использовать все данные которые есть для обучения моделей первого уровня, при этом обучить и получить их предсказания честно. Для этого поступим следующим образом. \n",
    "\n",
    "(снизу рисунок получения данных для одной модели первого уровня)\n",
    "\n",
    "- Зафиксируем разбиение\n",
    "- Кросс-валидацией будем обучать модель и предсказывать на оставшейся части данных вероятности (можно и ответы)\n",
    "    * при этом будем соблюдать чтобы на выходе получился вектор ответов и ответы совпадали с данными для которых предсказывали (это сделано для того чтобы можно было обучить модель второго уровня с тем же вектором таргета)\n",
    "    * после того как получили данные для обучения модели второго уровня, можно обучать на всех данных модели первого уровня (без кросс-валидации взять и обучить!)\n",
    "- Взять ответы и тот же таргет и на них обучить поверх еще одну модель.\n",
    "\n",
    "+++ предсказания:\n",
    "\n",
    "- предсказываем ответы моделей первого уровня.\n",
    "- в том же порядке стакаем матрицу и получаем предсказания с модели второго уровня - - - это и есть финальный ответ"
   ]
  },
  {
   "cell_type": "markdown",
   "metadata": {
    "collapsed": true
   },
   "source": [
    "![okey](excelcvpp.png)"
   ]
  },
  {
   "cell_type": "code",
   "execution_count": null,
   "metadata": {
    "collapsed": true
   },
   "outputs": [],
   "source": []
  },
  {
   "cell_type": "code",
   "execution_count": null,
   "metadata": {
    "collapsed": false
   },
   "outputs": [],
   "source": []
  },
  {
   "cell_type": "markdown",
   "metadata": {},
   "source": [
    "### как мы можем получать такую матричку для моделек первого уровня?"
   ]
  },
  {
   "cell_type": "markdown",
   "metadata": {},
   "source": [
    "#### способ 1"
   ]
  },
  {
   "cell_type": "code",
   "execution_count": 7,
   "metadata": {
    "collapsed": true
   },
   "outputs": [],
   "source": [
    "def cross_val_predict_proba(estimator, skf, X, y):\n",
    "    \"\"\"\n",
    "    выдает вектор заполненный так: учимся на N-1 фолдах, предсказываем на 1, заполняем вероятности \n",
    "    ровно тех индексов, на которых предсказывали. берем другие N-1 фолдов и тд... и так пока не пройдем все\n",
    "    \"\"\"\n",
    "    res = np.zeros(y.shape)\n",
    "    for train, test in skf:\n",
    "        estimator.fit(X[train], y[train])\n",
    "        res[test] = estimator.predict_proba(X[test])\n",
    "    return res"
   ]
  },
  {
   "cell_type": "code",
   "execution_count": 8,
   "metadata": {
    "collapsed": true
   },
   "outputs": [],
   "source": [
    "### эти ответы со всех моделей первого уровня можно склеить (застакать) вот так\n",
    "a = np.array([1,1,1,1,1,1])\n",
    "b = np.array([0,0,0,1,1,1])\n",
    "c = np.array([1,1,1,0,0,0])\n",
    "\n",
    "d = np.vstack([a,b,c]).T"
   ]
  },
  {
   "cell_type": "code",
   "execution_count": 9,
   "metadata": {
    "collapsed": false
   },
   "outputs": [
    {
     "data": {
      "text/plain": [
       "array([[1, 0, 1],\n",
       "       [1, 0, 1],\n",
       "       [1, 0, 1],\n",
       "       [1, 1, 0],\n",
       "       [1, 1, 0],\n",
       "       [1, 1, 0]])"
      ]
     },
     "execution_count": 9,
     "metadata": {},
     "output_type": "execute_result"
    }
   ],
   "source": [
    "d"
   ]
  },
  {
   "cell_type": "markdown",
   "metadata": {},
   "source": [
    "#### ну или способ 2."
   ]
  },
  {
   "cell_type": "markdown",
   "metadata": {},
   "source": [
    "заделаем класс-обертку в который завернем свой классификатор\n",
    "\n",
    "зачем?\n",
    "\n",
    "чтобы честно заполнять предсказания с перового уровня с помощью функции cross_val_predict (и не пилить свое cross_val_predict_proba):\n",
    "http://scikit-learn.org/stable/modules/generated/sklearn.cross_validation.cross_val_predict.html\n"
   ]
  },
  {
   "cell_type": "code",
   "execution_count": 10,
   "metadata": {
    "collapsed": true
   },
   "outputs": [],
   "source": [
    "from sklearn.base import BaseEstimator\n",
    "\n",
    "# то есть создадим класс обертку который будет выдавать только вероятности (даже когда будем просить ответы!)\n",
    "class Only_proba_classifier(BaseEstimator):\n",
    "    def __init__(self, clf):\n",
    "        self.clf = clf\n",
    "        \n",
    "    def fit(self, X, y):\n",
    "        self.clf.fit(X, y)\n",
    "        return self\n",
    "    \n",
    "    def predict(self, X):\n",
    "        return self.clf.predict_proba(X)\n",
    "    \n",
    "    def predict_proba(self, X):\n",
    "        return self.clf.predict_proba(X)"
   ]
  },
  {
   "cell_type": "code",
   "execution_count": null,
   "metadata": {
    "collapsed": true
   },
   "outputs": [],
   "source": []
  },
  {
   "cell_type": "markdown",
   "metadata": {},
   "source": [
    "Тогда он будет работать вот так:\n",
    "\n",
    "cross_val_predict(Only_proba_classifier(clf), X, y, cv=skf)\n",
    "\n",
    "но с разных моделей стакать (склеивать) результаты все равно придется руками."
   ]
  },
  {
   "cell_type": "code",
   "execution_count": null,
   "metadata": {
    "collapsed": false
   },
   "outputs": [],
   "source": []
  },
  {
   "cell_type": "markdown",
   "metadata": {},
   "source": [
    "### Перейдем к делу взяв способ номер 2"
   ]
  },
  {
   "cell_type": "code",
   "execution_count": 11,
   "metadata": {
    "collapsed": false
   },
   "outputs": [],
   "source": [
    "# возьмем RandomForest в качестве одного из классификаторов\n",
    "\n",
    "clf_rf = RandomForestClassifier(random_state=0)\n",
    "\n",
    "# заполним матрицу предсказаний вероятностями \n",
    "preds_rf = cross_val_predict(Only_proba_classifier(clf_rf), X, y, cv=skf) \n",
    "\n",
    "# обучим модель на всех данных\n",
    "clf_rf.fit(X, y)\n",
    "\n",
    "\n",
    "### сразу сделаем предсказания для теста.\n",
    "preds_test_rf = clf_rf.predict_proba(X_test)"
   ]
  },
  {
   "cell_type": "code",
   "execution_count": 12,
   "metadata": {
    "collapsed": false
   },
   "outputs": [],
   "source": [
    "# возьмем LogisticRegression в качестве другого классификатора\n",
    "sc = MinMaxScaler()\n",
    "clf_lr = LogisticRegression(random_state=0)\n",
    "\n",
    "# заполним матрицу предсказаний вероятностями\n",
    "preds_lr = cross_val_predict(Only_proba_classifier(clf_lr), sc.fit_transform(X), y, cv=skf)\n",
    "\n",
    "\n",
    "# обучим модель на всех данных\n",
    "clf_lr.fit(sc.transform(X), y)\n",
    "\n",
    "\n",
    "### сразу сделаем предсказания для теста.\n",
    "preds_test_lr = clf_lr.predict_proba(sc.transform(X_test))"
   ]
  },
  {
   "cell_type": "code",
   "execution_count": 13,
   "metadata": {
    "collapsed": false
   },
   "outputs": [
    {
     "name": "stdout",
     "output_type": "stream",
     "text": [
      "Random Forest: 0.933\n",
      "Logistic Regression: 0.888\n"
     ]
    }
   ],
   "source": [
    "### результаты с кроссвалидации\n",
    "\n",
    "print ('Random Forest: {0:0.3f}'.format(roc_auc_score(y, preds_rf[:, 1])))\n",
    "print ('Logistic Regression: {0:0.3f}'.format(roc_auc_score(y, preds_lr[:, 1])))"
   ]
  },
  {
   "cell_type": "code",
   "execution_count": null,
   "metadata": {
    "collapsed": true
   },
   "outputs": [],
   "source": []
  },
  {
   "cell_type": "code",
   "execution_count": 14,
   "metadata": {
    "collapsed": false
   },
   "outputs": [
    {
     "name": "stdout",
     "output_type": "stream",
     "text": [
      "Random Forest test: 0.961\n",
      "Logistic Regression test: 0.931\n"
     ]
    }
   ],
   "source": [
    "### на тесте \n",
    "print ('Random Forest test: {0:0.3f}'.format(roc_auc_score(y_test, preds_test_rf[:, 1])))\n",
    "print ('Logistic Regression test: {0:0.3f}'.format(roc_auc_score(y_test, preds_test_lr[:, 1])))"
   ]
  },
  {
   "cell_type": "markdown",
   "metadata": {},
   "source": [
    "____"
   ]
  },
  {
   "cell_type": "markdown",
   "metadata": {},
   "source": [
    "Итак Blending\n",
    "\n",
    "Говорят - это просто взвешенная сумма предсказаний (можно подбирать перебором, можно на глаз, можно опираться\n",
    "на предсказательную силу классификатора или на лидерборд)"
   ]
  },
  {
   "cell_type": "code",
   "execution_count": 15,
   "metadata": {
    "collapsed": true
   },
   "outputs": [],
   "source": [
    "%matplotlib inline\n",
    "import matplotlib.pyplot as plt"
   ]
  },
  {
   "cell_type": "code",
   "execution_count": 16,
   "metadata": {
    "collapsed": false
   },
   "outputs": [
    {
     "name": "stdout",
     "output_type": "stream",
     "text": [
      "Best roc auc score: 0.948\n",
      "Best alpha: 0.717\n"
     ]
    },
    {
     "data": {
      "image/png": "[encoded data removed]",
      "text/plain": [
       "<matplotlib.figure.Figure at 0x112529a58>"
      ]
     },
     "metadata": {},
     "output_type": "display_data"
    }
   ],
   "source": [
    "weights = np.linspace(0, 1, 100)\n",
    "scores = np.zeros_like(weights)\n",
    "\n",
    "for index, alpha in enumerate(weights):\n",
    "    preds = alpha * preds_rf + (1-alpha) * preds_lr\n",
    "    score = roc_auc_score(y, preds[:, 1])\n",
    "    scores[index] = score\n",
    "\n",
    "plt.plot(weights, scores)\n",
    "print ('Best roc auc score: {0:0.3f}'.format(scores.max()))\n",
    "print ('Best alpha: {0:0.3f}'.format(weights[scores.argmax()]))"
   ]
  },
  {
   "cell_type": "code",
   "execution_count": 17,
   "metadata": {
    "collapsed": false
   },
   "outputs": [],
   "source": [
    "alpha = 0.717\n",
    "\n",
    "final_blending_prediction = alpha * preds_test_rf + (1-alpha) * preds_test_lr"
   ]
  },
  {
   "cell_type": "code",
   "execution_count": 18,
   "metadata": {
    "collapsed": false
   },
   "outputs": [
    {
     "name": "stdout",
     "output_type": "stream",
     "text": [
      "Blending on test: 0.973\n"
     ]
    }
   ],
   "source": [
    "print ('Blending on test: {0:0.3f}'.format( roc_auc_score(y_test, final_blending_prediction[:, 1]) ))"
   ]
  },
  {
   "cell_type": "markdown",
   "metadata": {},
   "source": [
    "_____"
   ]
  },
  {
   "cell_type": "markdown",
   "metadata": {},
   "source": [
    "еще есть стекинг __stacking__\n",
    "\n",
    "тут мы второй моделью взвешиваем результаты первых"
   ]
  },
  {
   "cell_type": "code",
   "execution_count": 19,
   "metadata": {
    "collapsed": true
   },
   "outputs": [],
   "source": [
    "### склеиваем данные для трейна и теста  соответственно\n",
    "train_stacking = np.hstack([preds_rf, preds_lr])\n",
    "test_stacking = np.hstack([preds_test_rf, preds_test_lr])"
   ]
  },
  {
   "cell_type": "markdown",
   "metadata": {
    "collapsed": true
   },
   "source": [
    "возьмем моделью второго уровня - логрегрессию:"
   ]
  },
  {
   "cell_type": "code",
   "execution_count": 21,
   "metadata": {
    "collapsed": false
   },
   "outputs": [
    {
     "name": "stdout",
     "output_type": "stream",
     "text": [
      "stacking train: 0.948\n",
      "stacking test: 0.973\n"
     ]
    }
   ],
   "source": [
    "lr_stacking = LogisticRegression()\n",
    "lr_stacking.fit(train_stacking, y)\n",
    "print ('stacking train: {0:0.3f}'.format(roc_auc_score(y,    lr_stacking.predict_proba(train_stacking)[:,1] )))\n",
    "print ('stacking test: {0:0.3f}'.format(roc_auc_score(y_test, lr_stacking.predict_proba(test_stacking)[:,1] )))"
   ]
  },
  {
   "cell_type": "code",
   "execution_count": 27,
   "metadata": {
    "collapsed": false
   },
   "outputs": [
    {
     "name": "stdout",
     "output_type": "stream",
     "text": [
      "stacking optimizing train: 0.949\n",
      "stacking optimizing test: 0.972\n"
     ]
    }
   ],
   "source": [
    "# попробуем потюнить\n",
    "lr_stacking = LogisticRegression(C=1e-4, fit_intercept=False)\n",
    "lr_stacking.fit(train_stacking, y)\n",
    "print ('stacking optimizing train: {0:0.3f}'.format(roc_auc_score(y,    lr_stacking.predict_proba(train_stacking)[:,1] )))\n",
    "print ('stacking optimizing test: {0:0.3f}'.format(roc_auc_score(y_test, lr_stacking.predict_proba(test_stacking)[:,1] )))"
   ]
  },
  {
   "cell_type": "code",
   "execution_count": null,
   "metadata": {
    "collapsed": true
   },
   "outputs": [],
   "source": []
  },
  {
   "cell_type": "code",
   "execution_count": null,
   "metadata": {
    "collapsed": true
   },
   "outputs": [],
   "source": []
  },
  {
   "cell_type": "code",
   "execution_count": null,
   "metadata": {
    "collapsed": true
   },
   "outputs": [],
   "source": []
  }
 ],
 "metadata": {
  "kernelspec": {
   "display_name": "Python 3",
   "language": "python",
   "name": "python3"
  },
  "language_info": {
   "codemirror_mode": {
    "name": "ipython",
    "version": 3
   },
   "file_extension": ".py",
   "mimetype": "text/x-python",
   "name": "python",
   "nbconvert_exporter": "python",
   "pygments_lexer": "ipython3",
   "version": "3.5.0"
  }
 },
 "nbformat": 4,
 "nbformat_minor": 0
}
