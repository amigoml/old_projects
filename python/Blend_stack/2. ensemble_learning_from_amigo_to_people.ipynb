{
 "cells": [
  {
   "cell_type": "markdown",
   "metadata": {
    "collapsed": true
   },
   "source": [
    "Напиши мне, если что-то не так или есть способы сделать это круче 'amir147@rambler.ru'"
   ]
  },
  {
   "cell_type": "code",
   "execution_count": 2,
   "metadata": {
    "collapsed": true
   },
   "outputs": [],
   "source": [
    "import numpy as np\n",
    "import pandas as pd\n",
    "from sklearn.cross_validation import StratifiedKFold, cross_val_score\n",
    "from sklearn.preprocessing import scale\n",
    "from sklearn.metrics import roc_auc_score\n",
    "from sklearn.metrics import accuracy_score"
   ]
  },
  {
   "cell_type": "code",
   "execution_count": 3,
   "metadata": {
    "collapsed": true
   },
   "outputs": [],
   "source": [
    "from sklearn.neighbors import KNeighborsClassifier\n",
    "from sklearn.ensemble import RandomForestClassifier\n",
    "from sklearn.linear_model import LogisticRegression\n",
    "from sklearn.ensemble import GradientBoostingClassifier"
   ]
  },
  {
   "cell_type": "code",
   "execution_count": 4,
   "metadata": {
    "collapsed": true
   },
   "outputs": [],
   "source": [
    "from Blending import Blender, BaseProbaEstimator\n",
    "from Stacking import Stacker"
   ]
  },
  {
   "cell_type": "code",
   "execution_count": 5,
   "metadata": {
    "collapsed": false
   },
   "outputs": [],
   "source": [
    "data = pd.read_csv('log_data.csv', header=None)"
   ]
  },
  {
   "cell_type": "markdown",
   "metadata": {},
   "source": [
    "## Baselines"
   ]
  },
  {
   "cell_type": "markdown",
   "metadata": {},
   "source": [
    "#### LR"
   ]
  },
  {
   "cell_type": "code",
   "execution_count": 6,
   "metadata": {
    "collapsed": false
   },
   "outputs": [
    {
     "name": "stdout",
     "output_type": "stream",
     "text": [
      "0.929272727273 ± 0.0611768875495\n",
      "one_rs 3\n",
      "0.932181818182 ± 0.0825534637684\n",
      "one_rs 7\n",
      "0.936454545455 ± 0.067323629391\n",
      "one_rs 43\n"
     ]
    }
   ],
   "source": [
    "for i in [3, 7, 43]:\n",
    "    sskkff = StratifiedKFold(data[0], n_folds=10, shuffle=True, random_state=i )\n",
    "    roc_auc = []\n",
    "    for train_idx, test_idx in sskkff:\n",
    "        \n",
    "        train = data.loc[train_idx]\n",
    "        labels = train[0].values\n",
    "        test = data.loc[test_idx]\n",
    "        labels_ts = test[0].values\n",
    "        train = train.drop(0, axis=1).values\n",
    "        test = test.drop(0, axis=1).values\n",
    "        \n",
    "        lr = LogisticRegression(n_jobs=-1)\n",
    "        lr.fit(scale(train), labels)\n",
    "        ans = lr.predict_proba(scale(test))\n",
    "\n",
    "        roc_auc.append(roc_auc_score(labels_ts, ans[:, 1]))\n",
    "    print (np.mean(roc_auc), '±', np.std(roc_auc))\n",
    "    print('one_rs', i)\n",
    "    \n"
   ]
  },
  {
   "cell_type": "markdown",
   "metadata": {},
   "source": [
    "#### KNN"
   ]
  },
  {
   "cell_type": "code",
   "execution_count": 7,
   "metadata": {
    "collapsed": false
   },
   "outputs": [
    {
     "name": "stdout",
     "output_type": "stream",
     "text": [
      "0.954681818182 ± 0.0552806700334\n",
      "one_rs 3\n",
      "0.915454545455 ± 0.114301327151\n",
      "one_rs 7\n",
      "0.961454545455 ± 0.0587440167518\n",
      "one_rs 43\n"
     ]
    }
   ],
   "source": [
    "for i in [3, 7, 43]:\n",
    "    sskkff = StratifiedKFold(data[0], n_folds=10, shuffle=True, random_state=i )\n",
    "    roc_auc = []\n",
    "    for train_idx, test_idx in sskkff:\n",
    "        \n",
    "        train = data.loc[train_idx]\n",
    "        labels = train[0].values\n",
    "        test = data.loc[test_idx]\n",
    "        labels_ts = test[0].values\n",
    "        train = train.drop(0, axis=1).values\n",
    "        test = test.drop(0, axis=1).values\n",
    "        \n",
    "        knn = KNeighborsClassifier(n_jobs=-1)\n",
    "        knn.fit(scale(train), labels)\n",
    "        ans = knn.predict_proba(scale(test))\n",
    "\n",
    "        roc_auc.append(roc_auc_score(labels_ts, ans[:, 1]))\n",
    "    print (np.mean(roc_auc), '±', np.std(roc_auc))\n",
    "    print('one_rs', i)\n",
    "    \n"
   ]
  },
  {
   "cell_type": "markdown",
   "metadata": {},
   "source": [
    "#### RF"
   ]
  },
  {
   "cell_type": "code",
   "execution_count": 8,
   "metadata": {
    "collapsed": false
   },
   "outputs": [
    {
     "name": "stdout",
     "output_type": "stream",
     "text": [
      "0.9365 ± 0.043993355058\n",
      "one_rs 3\n",
      "0.899409090909 ± 0.109073303504\n",
      "one_rs 7\n",
      "0.946181818182 ± 0.0658548993515\n",
      "one_rs 43\n"
     ]
    }
   ],
   "source": [
    "for i in [3, 7, 43]:\n",
    "    sskkff = StratifiedKFold(data[0], n_folds=10, shuffle=True, random_state=i )\n",
    "    roc_auc = []\n",
    "    for train_idx, test_idx in sskkff:\n",
    "        \n",
    "        train = data.loc[train_idx]\n",
    "        labels = train[0].values\n",
    "        test = data.loc[test_idx]\n",
    "        labels_ts = test[0].values\n",
    "        train = train.drop(0, axis=1).values\n",
    "        test = test.drop(0, axis=1).values\n",
    "        \n",
    "        rf = RandomForestClassifier( random_state= 0 , n_jobs=-1)\n",
    "        rf.fit(scale(train), labels)\n",
    "        ans = rf.predict_proba(scale(test))\n",
    "\n",
    "        roc_auc.append(roc_auc_score(labels_ts, ans[:, 1]))\n",
    "    print (np.mean(roc_auc), '±', np.std(roc_auc))\n",
    "    print('one_rs', i)\n",
    "    \n",
    "\n"
   ]
  },
  {
   "cell_type": "markdown",
   "metadata": {},
   "source": [
    "#### GradBoost"
   ]
  },
  {
   "cell_type": "code",
   "execution_count": 9,
   "metadata": {
    "collapsed": false
   },
   "outputs": [
    {
     "name": "stdout",
     "output_type": "stream",
     "text": [
      "0.947045454545 ± 0.0494269851347\n",
      "one_rs 3\n",
      "0.923090909091 ± 0.0897555909997\n",
      "one_rs 7\n",
      "0.964181818182 ± 0.0356502755776\n",
      "one_rs 43\n"
     ]
    }
   ],
   "source": [
    "for i in [3, 7, 43]:\n",
    "    sskkff = StratifiedKFold(data[0], n_folds=10, shuffle=True, random_state=i )\n",
    "    roc_auc = []\n",
    "    for train_idx, test_idx in sskkff:\n",
    "        \n",
    "        train = data.loc[train_idx]\n",
    "        labels = train[0].values\n",
    "        test = data.loc[test_idx]\n",
    "        labels_ts = test[0].values\n",
    "        train = train.drop(0, axis=1).values\n",
    "        test = test.drop(0, axis=1).values\n",
    "        \n",
    "        gb = GradientBoostingClassifier(random_state= 0)\n",
    "        gb.fit(scale(train), labels)\n",
    "        ans = gb.predict_proba(scale(test))\n",
    "\n",
    "        roc_auc.append(roc_auc_score(labels_ts, ans[:, 1]))\n",
    "    print (np.mean(roc_auc), '±', np.std(roc_auc))\n",
    "    print('one_rs', i)\n",
    "    \n"
   ]
  },
  {
   "cell_type": "markdown",
   "metadata": {},
   "source": [
    "_____"
   ]
  },
  {
   "cell_type": "markdown",
   "metadata": {},
   "source": [
    "## Blending (вернее стекинг если не задаем веса - решается логлосс задача с огр. ) "
   ]
  },
  {
   "cell_type": "code",
   "execution_count": null,
   "metadata": {
    "collapsed": true
   },
   "outputs": [],
   "source": [
    "'''\n",
    "#( классификаторы с интерфейсом BaseEstimator)\n",
    "________________________________________\n",
    "| Первый уровень | второй уровень       |\n",
    "|________________|______________________|\n",
    "|      LR        |                      |\n",
    "|      RF        |0.4*lr+0.3*rf+0.3*xgb | тут веса подбираются минимизацией кросс-энтропийного функционала \n",
    "|  XGBClassifier |                      |     или задаем свои\n",
    "|________________|______________________|\n",
    "'''"
   ]
  },
  {
   "cell_type": "code",
   "execution_count": 10,
   "metadata": {
    "collapsed": false
   },
   "outputs": [
    {
     "name": "stdout",
     "output_type": "stream",
     "text": [
      "0.957909090909 ± 0.0450363489558\n",
      "one_rs 3\n",
      "0.939181818182 ± 0.0765392461313\n",
      "one_rs 7\n",
      "0.957818181818 ± 0.0621836788664\n",
      "one_rs 43\n"
     ]
    }
   ],
   "source": [
    "# blend of vanilla classifiers with optimization inside\n",
    "\n",
    "for i in [3, 7, 43]:\n",
    "    sskkff = StratifiedKFold(data[0], n_folds=10, shuffle=True, random_state=i )\n",
    "    roc_auc = []\n",
    "    for train_idx, test_idx in sskkff:\n",
    "        \n",
    "        train = data.loc[train_idx]\n",
    "        labels = train[0].values\n",
    "        test = data.loc[test_idx]\n",
    "        labels_ts = test[0].values\n",
    "        train = train.drop(0, axis=1).values\n",
    "        test = test.drop(0, axis=1).values\n",
    "        \n",
    "        st = Blender([GradientBoostingClassifier(random_state=0), \n",
    "              KNeighborsClassifier(n_jobs=-1), \n",
    "              LogisticRegression(n_jobs=-1), \n",
    "              RandomForestClassifier(random_state=0, n_jobs=-1)\n",
    "             ])\n",
    "        \n",
    "        st.fit(scale(train), labels)\n",
    "        ans = st.predict_proba( scale(test) )\n",
    "        roc_auc.append(roc_auc_score(labels_ts, ans[:,1]))\n",
    "    print (np.mean(roc_auc), '±', np.std(roc_auc))\n",
    "    print('one_rs', i)\n",
    "    "
   ]
  },
  {
   "cell_type": "code",
   "execution_count": 11,
   "metadata": {
    "collapsed": false
   },
   "outputs": [
    {
     "name": "stdout",
     "output_type": "stream",
     "text": [
      "0.929272727273 ± 0.0611768875495\n",
      "one_rs 3\n",
      "0.932181818182 ± 0.0825534637684\n",
      "one_rs 7\n",
      "0.936454545455 ± 0.067323629391\n",
      "one_rs 43\n"
     ]
    }
   ],
   "source": [
    "# vanilla blend with our weights \n",
    "# Ex. -> Only log_legression compare with results above (in baselines section)\n",
    "\n",
    "\n",
    "for i in [3, 7, 43]:\n",
    "    sskkff = StratifiedKFold(data[0], n_folds=10, shuffle=True, random_state=i )\n",
    "    roc_auc = []\n",
    "    for train_idx, test_idx in sskkff:\n",
    "        \n",
    "        train = data.loc[train_idx]\n",
    "        labels = train[0].values\n",
    "        test = data.loc[test_idx]\n",
    "        labels_ts = test[0].values\n",
    "        train = train.drop(0, axis=1).values\n",
    "        test = test.drop(0, axis=1).values\n",
    "        \n",
    "        st = Blender([GradientBoostingClassifier( random_state=0), \n",
    "              KNeighborsClassifier( n_jobs=-1), \n",
    "              LogisticRegression( n_jobs=-1)], with_own_weights = True)\n",
    "        \n",
    "        st.fit(scale(train), labels)\n",
    "        weights = np.array([0.0, 0.0, 1.0]) #sum(weights)==1 \n",
    "        ans = st.predict_proba( scale(test), weights = weights )\n",
    "        roc_auc.append(roc_auc_score(labels_ts, ans[:, 1]))\n",
    "    print (np.mean(roc_auc), '±', np.std(roc_auc))\n",
    "    print('one_rs', i)\n"
   ]
  },
  {
   "cell_type": "markdown",
   "metadata": {
    "collapsed": true
   },
   "source": [
    "_____"
   ]
  },
  {
   "cell_type": "markdown",
   "metadata": {},
   "source": [
    "## Stacking"
   ]
  },
  {
   "cell_type": "code",
   "execution_count": null,
   "metadata": {
    "collapsed": true
   },
   "outputs": [],
   "source": [
    "'''\n",
    "#( классификаторы с интерфейсом BaseEstimator)\n",
    "__________________________________________________________ \n",
    "| Первый уровень | второй уровень | ы | последний уровень |\n",
    "|________________|________________|___|___________________|\n",
    "|      LR        | GradientBoost  |.. |                   |\n",
    "|      RF        |       KNN      |.. |        LR         |\n",
    "|  XGBClassifier |       LR       |.. |                   |\n",
    "|________________|________________|___|___________________|\n",
    "'''"
   ]
  },
  {
   "cell_type": "code",
   "execution_count": 12,
   "metadata": {
    "collapsed": false
   },
   "outputs": [
    {
     "name": "stdout",
     "output_type": "stream",
     "text": [
      "0.948545454545 ± 0.047048770195\n",
      "one_rs 3\n",
      "0.934363636364 ± 0.0760891169551\n",
      "one_rs 7\n",
      "0.964363636364 ± 0.0473108238101\n",
      "one_rs 43\n"
     ]
    }
   ],
   "source": [
    "# vanilla \n",
    "for i in [3, 7, 43]:\n",
    "    sskkff = StratifiedKFold(data[0], n_folds=10, shuffle=True, random_state=i )\n",
    "    roc_auc = []\n",
    "    for train_idx, test_idx in sskkff:\n",
    "        \n",
    "        train = data.loc[train_idx]\n",
    "        labels = train[0].values\n",
    "        test = data.loc[test_idx]\n",
    "        labels_ts = test[0].values\n",
    "        train = train.drop(0, axis=1).values\n",
    "        test = test.drop(0, axis=1).values\n",
    "        \n",
    "        st = Stacker([\n",
    "               \n",
    "                [\n",
    "                 GradientBoostingClassifier( random_state=0), \n",
    "                 KNeighborsClassifier( n_jobs=-1), \n",
    "                 LogisticRegression(n_jobs=-1),\n",
    "                 RandomForestClassifier(n_jobs=-1, random_state=0)\n",
    "                ],\n",
    "                [LogisticRegression(C = 1e-1, n_jobs=-1)]\n",
    "            ])\n",
    "        \n",
    "        st.fit(scale(train), labels)\n",
    "        ans = st.predict_proba(scale(test))\n",
    "        \n",
    "        roc_auc.append(roc_auc_score(labels_ts, ans[:, 1]))\n",
    "    print (np.mean(roc_auc), '±', np.std(roc_auc))\n",
    "    print('one_rs', i)"
   ]
  },
  {
   "cell_type": "code",
   "execution_count": 13,
   "metadata": {
    "collapsed": false
   },
   "outputs": [
    {
     "name": "stdout",
     "output_type": "stream",
     "text": [
      "0.962818181818 ± 0.0368343398888\n",
      "one_rs 3\n",
      "0.954363636364 ± 0.0724526633724\n",
      "one_rs 7\n",
      "0.976454545455 ± 0.0315742598377\n",
      "one_rs 43\n"
     ]
    }
   ],
   "source": [
    "# random params\n",
    "\n",
    "for i in [3, 7, 43]:\n",
    "    sskkff = StratifiedKFold(data[0], n_folds=10, shuffle=True, random_state=i )\n",
    "    roc_auc = []\n",
    "    for train_idx, test_idx in sskkff:\n",
    "        \n",
    "        train = data.loc[train_idx]\n",
    "        labels = train[0].values\n",
    "        test = data.loc[test_idx]\n",
    "        labels_ts = test[0].values\n",
    "        train = train.drop(0, axis=1).values\n",
    "        test = test.drop(0, axis=1).values\n",
    "        \n",
    "        st = Stacker([\n",
    "                [\n",
    "                     LogisticRegression(C=1e-2, n_jobs=-1), \n",
    "                     GradientBoostingClassifier(n_estimators = 50, learning_rate=0.09, random_state=0),\n",
    "                ],\n",
    "                [\n",
    "                     RandomForestClassifier(n_estimators=120, n_jobs=-1, random_state=0),\n",
    "                     KNeighborsClassifier(n_neighbors = 1, n_jobs=-1), \n",
    "                     LogisticRegression(C=1e-2, n_jobs=-1)\n",
    "                ],\n",
    "                [LogisticRegression(C = 10, n_jobs=-1)]\n",
    "            ])\n",
    "        \n",
    "        st.fit(scale(train), labels)\n",
    "        ans = st.predict_proba(scale(test))\n",
    "        \n",
    "        roc_auc.append(roc_auc_score(labels_ts, ans[:, 1]))\n",
    "    print (np.mean(roc_auc), '±', np.std(roc_auc))\n",
    "    print('one_rs', i)"
   ]
  },
  {
   "cell_type": "code",
   "execution_count": null,
   "metadata": {
    "collapsed": true
   },
   "outputs": [],
   "source": []
  }
 ],
 "metadata": {
  "kernelspec": {
   "display_name": "Python 3",
   "language": "python",
   "name": "python3"
  },
  "language_info": {
   "codemirror_mode": {
    "name": "ipython",
    "version": 3
   },
   "file_extension": ".py",
   "mimetype": "text/x-python",
   "name": "python",
   "nbconvert_exporter": "python",
   "pygments_lexer": "ipython3",
   "version": "3.5.0"
  }
 },
 "nbformat": 4,
 "nbformat_minor": 0
}
